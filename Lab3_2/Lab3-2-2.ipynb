{
 "cells": [
  {
   "cell_type": "markdown",
   "metadata": {},
   "source": [
    "\n",
    "# Question 2.1 & 2.2\n"
   ]
  },
  {
   "cell_type": "markdown",
   "metadata": {},
   "source": [
    "## append\n",
    "<br>\n",
    "list.append(elmnt)\n",
    "<br>\n",
    " - Parameter: elmnt\n",
    "<br>\n",
    " - Description:  Required. An element of any type (string, number, object etc.)"
   ]
  },
  {
   "cell_type": "code",
   "execution_count": 1,
   "metadata": {},
   "outputs": [
    {
     "name": "stdout",
     "output_type": "stream",
     "text": [
      "list before appending:  []\n",
      "list after appending the items:  ['R', 'S']\n",
      "\n",
      "Another three lists:  ['A', 'M'] ['N', 'F'] ['M', 'S']\n",
      "List of lists:  [['R', 'S'], ['A', 'M'], ['N', 'F'], ['M', 'S']]\n",
      "\n",
      "Accessing the ith list -> listTotal[i]:  ['R', 'S']\n",
      "Accessing the xth item in the ith list -> listTotal[i][x]:  R\n",
      "Accessing the yth variable in the xth item in the ith list -> listTotal[i][x][y]:  R\n"
     ]
    }
   ],
   "source": [
    "list1 = []\n",
    "print('list before appending: ', list1)\n",
    "list1.append('R')\n",
    "list1.append('S')\n",
    "print('list after appending the items: ',list1)\n",
    "\n",
    "list2 = []\n",
    "list3 = []\n",
    "list4 = []\n",
    "list2.append('A')\n",
    "list2.append('M')\n",
    "list3.append('N')\n",
    "list3.append('F')\n",
    "list4.append('M')\n",
    "list4.append('S')\n",
    "print('\\nAnother three lists: ',list2,list3,list4)\n",
    "\n",
    "listTotal = [list1,list2,list3,list4]\n",
    "print('List of lists: ', listTotal)\n",
    "\n",
    "print('\\nAccessing the ith list -> listTotal[i]: ', listTotal[0])\n",
    "print('Accessing the xth item in the ith list -> listTotal[i][x]: ', listTotal[0][0])\n",
    "print('Accessing the yth variable in the xth item in the ith list -> listTotal[i][x][y]: ',listTotal[0][0][0])\n",
    "\n"
   ]
  },
  {
   "cell_type": "markdown",
   "metadata": {},
   "source": [
    "## Tuples and Lists key differences and similarities:\n",
    " - They are both used to store collection of data\n",
    " - They are both heterogeneous data types means that you can store any kind of data type\n",
    " - They are both ordered means the order in which you put the items are kept.\n",
    " - hey are both sequential data types so you can iterate over the items contained.\n",
    " - Items of both types can be accessed by an integer index operator, provided in square brackets, [index]\n",
    "<br>\n",
    "<br>\n",
    "The key difference between the tuples and lists is that while <b>the tuples are immutable objects </b> the lists are mutable. This means that <b>tuples cannot be changed while the lists can be modified</b>. There may be some occasions you specifically do not what data to be changed. If you have data which is not meant to be changed in the first place, you should choose tuple data type over lists. But if you know that the data will grow and shrink during the runtime of the application, you need to go with the list data type\n",
    "<br>\n",
    "<br>\n",
    "In terms of time and memory efficiency:\n",
    "As lists are mutable, Python needs to allocate an extra memory block in case there is a need to extend the size of the list object after it is created. In contrary, as tuples are immutable and fixed size, Python allocates just the minimum memory block required for the data. As a result, tuples are more memory efficient than the lists."
   ]
  },
  {
   "cell_type": "code",
   "execution_count": 2,
   "metadata": {},
   "outputs": [
    {
     "name": "stdout",
     "output_type": "stream",
     "text": [
      "Tuple object has no attribute to \"append\" and tuples cannot be changed once they are defined. Therefore, a tuple has been defined with four tuples as its elements from the beginning. Accessing the elements is similar to lists.\n",
      " (('R', 'S'), ('A', 'M'), ('N', 'F'), ('M', 'S'))\n",
      "\n",
      "Accessing the ith tuple-> tupleTotal[i]:  ('R', 'S')\n",
      "Accessing the xth item in the ith tuple -> tupleTotal[i][x]:  R\n",
      "Accessing the yth variable in the xth item in the ith tuple -> tupleTotal[i][x][y]:  R\n"
     ]
    }
   ],
   "source": [
    "tuple1 = ('R','S')\n",
    "tuple2 = ('A','M')\n",
    "tuple3 = ('N','F')\n",
    "tuple4 = ('M','S')\n",
    "tupleTotal = (tuple1,tuple2,tuple3,tuple4)\n",
    "print('Tuple object has no attribute to \"append\" and tuples cannot be changed once they are defined. Therefore, a tuple has been defined with four tuples as its elements from the beginning. Accessing the elements is similar to lists.\\n', tupleTotal)\n",
    "\n",
    "print('\\nAccessing the ith tuple-> tupleTotal[i]: ', tupleTotal[0])\n",
    "print('Accessing the xth item in the ith tuple -> tupleTotal[i][x]: ', tupleTotal[0][0])\n",
    "print('Accessing the yth variable in the xth item in the ith tuple -> tupleTotal[i][x][y]: ',tupleTotal[0][0][0])\n"
   ]
  },
  {
   "cell_type": "markdown",
   "metadata": {},
   "source": [
    "# Question 2.5"
   ]
  },
  {
   "cell_type": "code",
   "execution_count": 3,
   "metadata": {},
   "outputs": [
    {
     "name": "stdout",
     "output_type": "stream",
     "text": [
      "[['A', 'M'], ['M', 'G'], ['R', 'S'], ['N', 'F']]\n",
      "['A', 'M', 'M', 'G', 'R', 'S', 'N', 'F']\n"
     ]
    }
   ],
   "source": [
    "from functools import reduce\n",
    "l1 = ['A','M']\n",
    "l2 = ['M', 'G']\n",
    "l3 = ['R','S']\n",
    "l4 = ['N','F']\n",
    "\n",
    "lst = []\n",
    "\n",
    "lst.append(l1)\n",
    "lst.append(l2)\n",
    "lst.append(l3)\n",
    "lst.append(l4)\n",
    "print(lst)\n",
    "\n",
    "\n",
    "#x=lambda l1,l2,l3,l4:\n",
    "flat_list = [item for sublist in lst for item in sublist]\n",
    "f_l=reduce(lambda x, y: x+y, lst)\n",
    "print(f_l)"
   ]
  }
 ],
 "metadata": {
  "interpreter": {
   "hash": "42d97b6212df95aaf9994e5f1836179837069a36b44f680cac86a49a1c981ce3"
  },
  "kernelspec": {
   "display_name": "Python 3",
   "language": "python",
   "name": "python3"
  },
  "language_info": {
   "codemirror_mode": {
    "name": "ipython",
    "version": 3
   },
   "file_extension": ".py",
   "mimetype": "text/x-python",
   "name": "python",
   "nbconvert_exporter": "python",
   "pygments_lexer": "ipython3",
   "version": "3.8.5"
  }
 },
 "nbformat": 4,
 "nbformat_minor": 2
}
