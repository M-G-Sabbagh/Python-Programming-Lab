{
 "cells": [
  {
   "cell_type": "markdown",
   "metadata": {
    "id": "SKEBrwhlC0zQ"
   },
   "source": [
    "\n"
   ]
  },
  {
   "cell_type": "markdown",
   "metadata": {
    "id": "-Y28I5qnfX0M"
   },
   "source": [
    "4-1\n",
    "Recursive Levenshtein Distance Algorithm"
   ]
  },
  {
   "cell_type": "code",
   "execution_count": 2,
   "metadata": {
    "colab": {
     "base_uri": "https://localhost:8080/"
    },
    "id": "QwR_n40QfXJ3",
    "outputId": "cabb3b5f-f4d9-4628-e4b1-308eef5cdaf5"
   },
   "outputs": [
    {
     "name": "stdout",
     "output_type": "stream",
     "text": [
      "Levenshtein\n",
      "Distance\n",
      "130\n"
     ]
    }
   ],
   "source": [
    "gap=10\n",
    "mis=20\n",
    "\n",
    "def leven(x,y):\n",
    "  lx=len(x)\n",
    "  ly=len(y)\n",
    "  if (lx==0):\n",
    "    return gap*ly \n",
    "  if (ly==0):\n",
    "    return gap*lx \n",
    "  m=0\n",
    "  if(x[lx-1]!=y[ly-1]):\n",
    "    m=mis\n",
    "  return min(m+leven(x[0:lx-1],y[0:ly-1]),gap+leven(x[0:lx-1],y),gap+leven(x,y[0:ly-1]))\n",
    "    \n",
    "\n",
    "\n",
    "x = input()\n",
    "y = input()\n",
    "\n",
    "print(leven(x,y))"
   ]
  },
  {
   "cell_type": "markdown",
   "metadata": {
    "id": "lduKUShAfJoT"
   },
   "source": [
    "Levenshtein Distance With Dynamic Programming"
   ]
  },
  {
   "cell_type": "code",
   "execution_count": 3,
   "metadata": {
    "colab": {
     "base_uri": "https://localhost:8080/"
    },
    "id": "K5hBr2_VENXA",
    "outputId": "1dbeed94-1754-4d33-b946-3c591e8e7580"
   },
   "outputs": [
    {
     "name": "stdout",
     "output_type": "stream",
     "text": [
      "Levenshtein\n",
      "Distance\n",
      "110.0\n"
     ]
    }
   ],
   "source": [
    "import numpy as np\n",
    "\n",
    "x = input()\n",
    "y = input()\n",
    "\n",
    "lx=len(x)\n",
    "ly=len(y)\n",
    "\n",
    "gap=10\n",
    "mis=20\n",
    "\n",
    "op=np.zeros([lx,ly])\n",
    "for i in range(0,lx):\n",
    "  op[i][0]=i*gap\n",
    "for i in range(0,ly):\n",
    "  op[0][i]=i*gap\n",
    "for i in range(1,lx):\n",
    "  for j in range(1,ly):\n",
    "    m=0\n",
    "    if(x[i]!=y[j]):\n",
    "      m=mis\n",
    "    op[i][j]=min(m+op[i-1][j-1],gap+op[i-1][j],gap+op[i][j-1])\n",
    "print(op[lx-1][ly-1])\n",
    "\n",
    "\n",
    "\n"
   ]
  }
 ],
 "metadata": {
  "colab": {
   "collapsed_sections": [],
   "name": "ali.ipynb",
   "provenance": []
  },
  "kernelspec": {
   "display_name": "Python 3",
   "language": "python",
   "name": "python3"
  },
  "language_info": {
   "codemirror_mode": {
    "name": "ipython",
    "version": 3
   },
   "file_extension": ".py",
   "mimetype": "text/x-python",
   "name": "python",
   "nbconvert_exporter": "python",
   "pygments_lexer": "ipython3",
   "version": "3.8.5"
  }
 },
 "nbformat": 4,
 "nbformat_minor": 1
}
