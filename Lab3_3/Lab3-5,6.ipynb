{
 "cells": [
  {
   "cell_type": "markdown",
   "metadata": {},
   "source": [
    "# Question 3.5 & 3.6"
   ]
  },
  {
   "cell_type": "markdown",
   "metadata": {},
   "source": [
    "## CSV files\n",
    "<br>\n",
    "csv file has been read with pandas using pandas.read_csv and then with the new format has been written in a new file using pandas.to_csv."
   ]
  },
  {
   "cell_type": "code",
   "execution_count": 27,
   "metadata": {},
   "outputs": [
    {
     "name": "stdout",
     "output_type": "stream",
     "text": [
      "         1  65   8450  2003  3  1.1  2008  208500\n",
      "0        2  80   9600  1976  3    1  2007  181500\n",
      "1        3  68  11250  2001  3    1  2008  223500\n",
      "2        4  60   9550  1915  3    1  2006  140000\n",
      "3        5  84  14260  2000  4    1  2008  250000\n",
      "4        6  85  14115  1993  1    1  2009  143000\n",
      "...    ...  ..    ...   ... ..  ...   ...     ...\n",
      "1194  1196  62   7500  2004  2    1  2009  185000\n",
      "1195  1197  62   7917  1999  3    1  2007  175000\n",
      "1196  1198  85  13175  1978  3    1  2010  210000\n",
      "1197  1199  66   9042  1941  4    1  2010  266500\n",
      "1198  1200  68   9717  1950  2    1  2010  142125\n",
      "\n",
      "[1199 rows x 8 columns]\n",
      "      65   8450  2003  3  1.1  2008  208500\n",
      "0     80   9600  1976  3    1  2007  181500\n",
      "1     68  11250  2001  3    1  2008  223500\n",
      "2     60   9550  1915  3    1  2006  140000\n",
      "3     84  14260  2000  4    1  2008  250000\n",
      "4     85  14115  1993  1    1  2009  143000\n",
      "...   ..    ...   ... ..  ...   ...     ...\n",
      "1194  62   7500  2004  2    1  2009  185000\n",
      "1195  62   7917  1999  3    1  2007  175000\n",
      "1196  85  13175  1978  3    1  2010  210000\n",
      "1197  66   9042  1941  4    1  2010  266500\n",
      "1198  68   9717  1950  2    1  2010  142125\n",
      "\n",
      "[1199 rows x 7 columns]\n"
     ]
    }
   ],
   "source": [
    "import pandas as pd\n",
    "\n",
    "csvdata = pd.read_csv(\"helper_files/data.csv\")\n",
    "print(csvdata)\n",
    "\n",
    "newdata = csvdata.iloc[:,1:]\n",
    "print(newdata)\n",
    "\n",
    "newdata.to_csv('helper_files/new.csv', index=False, sep=' ')"
   ]
  },
  {
   "cell_type": "markdown",
   "metadata": {},
   "source": [
    "## Regular Expression\n",
    "\n",
    "### <b>re.search(pattern, string, flags=0)</b>:\n",
    "Scan through string looking for the <b>first location</b> where the regular expression pattern produces a match, and return a corresponding <b>match object</b>. Return None if no position in the string matches the pattern; note that this is different from finding a zero-length match at some point in the string.\n",
    "<br>\n",
    "\n",
    "### <b>re.match(pattern, string, flags=0)</b>:\n",
    "If zero or more characters at the <b>beginning of string</b> match the regular expression pattern, return a corresponding match object. Return None if the string does not match the pattern; note that this is different from a zero-length match. Note that even in MULTILINE mode, re.match() <b>will only match at the beginning of the string and not at the beginning of each line </b>. If you want to locate a match anywhere in string, use search() instead.\n",
    "<br>\n",
    "\n",
    "### <b>re.findall(pattern, string, flags=0)</b>:\n",
    "Return <b>all non-overlapping matches of pattern in string</b>, as <b>a list</b> of strings or tuples. The string is scanned left-to-right, and matches are returned in the order found. Empty matches are included in the result. The result depends on the number of capturing groups in the pattern. If there are no groups, return a list of strings matching the whole pattern. If there is exactly one group, return a list of strings matching that group. If multiple groups are present, return a list of tuples of strings matching the groups. Non-capturing groups do not affect the form of the result.\n",
    "<br>\n",
    "\n",
    "### <b>re.sub(pattern, repl, string, count=0, flags=0)</b>:\n",
    "Return <b>the string obtained by replacing the leftmost non-overlapping occurrences of pattern</b> in string by the replacement repl. If the pattern isn’t found, string is returned unchanged. repl can be a string or a function; if it is a string, any backslash escapes in it are processed.\n"
   ]
  },
  {
   "cell_type": "markdown",
   "metadata": {},
   "source": [
    "According to the explanations provided in the previous paragraph, <b>\"re.findall\"</b> will be used in all cases for this question."
   ]
  },
  {
   "cell_type": "code",
   "execution_count": 28,
   "metadata": {},
   "outputs": [
    {
     "name": "stdout",
     "output_type": "stream",
     "text": [
      "All lines starting with \"GNU\":  ['                    GNU GENERAL PUBLIC LICENSE\\n', ' GNU General Public License is a free, copyleft license for\\n', ' GNU General Public License is intended to guarantee your freedom to\\n', 'GNU General Public License for most of our software; it applies also to\\n', ' GNU GPL protect your rights with two steps:\\n', ' GNU General Public License.\\n', ' GNU Affero General Public License.\\n', ' GNU Affero General Public License into a single\\n', ' GNU Affero General Public License,\\n', ' GNU General Public License from time to time.  Such new versions will\\n', ' GNU General\\n', 'GNU General Public License, you may choose any version ever published\\n', \" GNU General Public License can be used, that proxy's\\n\", ' GNU General Public License as published by\\n', '    GNU General Public License for more details.\\n', ' GNU General Public License\\n', ' GNU GPL, see\\n', ' GNU General Public License does not permit incorporating your program\\n', ' GNU Lesser General\\n']\n",
      "\n",
      "All words containing \"cept\":  ['unacceptable', 'except', 'except', 'exceptions', 'exceptions', 'except', 'Acceptance', 'accept', 'acceptance', 'accept', 'acceptance', 'acceptance']\n",
      "\n",
      "All parts of the text that are in parentheses:  ['C', '2', 'with or without modification', '1', '2', 'a', 'b', 'including a physical distribution medium', 'including a physical distribution medium', '1', '2', 'gratis or for a charge', 'operated by you or a third party', '1', '2', 'regardless of how the transaction is characterized', 'a', 'b', 'for any work', '1', '2', '3', 'a', 'or copies made from those copies', 'b', 'C', 'at your option', 'C', 'if you work as a programmer']\n"
     ]
    }
   ],
   "source": [
    "import re\n",
    "\n",
    "with open('helper_files/GPL-1') as f:\n",
    "    GPLfile = f.read()\n",
    "\n",
    "result1 = re.findall(' *GNU.*\\n', GPLfile)\n",
    "print('All lines starting with \"GNU\": ',result1)\n",
    "\n",
    "result2 = re.findall('[a-zA-Z]*cept[a-zA-Z]*', GPLfile)\n",
    "print('\\nAll words containing \"cept\": ',result2)\n",
    "\n",
    "result3 = re.findall('(?<= \\().+?(?=\\))', GPLfile)\n",
    "print('\\nAll parts of the text that are in parentheses: ',result3)"
   ]
  }
 ],
 "metadata": {
  "interpreter": {
   "hash": "42d97b6212df95aaf9994e5f1836179837069a36b44f680cac86a49a1c981ce3"
  },
  "kernelspec": {
   "display_name": "Python 3",
   "language": "python",
   "name": "python3"
  },
  "language_info": {
   "codemirror_mode": {
    "name": "ipython",
    "version": 3
   },
   "file_extension": ".py",
   "mimetype": "text/x-python",
   "name": "python",
   "nbconvert_exporter": "python",
   "pygments_lexer": "ipython3",
   "version": "3.8.5"
  }
 },
 "nbformat": 4,
 "nbformat_minor": 2
}
